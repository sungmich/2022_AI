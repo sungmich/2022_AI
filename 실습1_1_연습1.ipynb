{
  "nbformat": 4,
  "nbformat_minor": 0,
  "metadata": {
    "colab": {
      "provenance": [],
      "collapsed_sections": [],
      "authorship_tag": "ABX9TyOPrNdno3hTb1PPqQ9HCocd",
      "include_colab_link": true
    },
    "kernelspec": {
      "name": "python3",
      "display_name": "Python 3"
    },
    "language_info": {
      "name": "python"
    }
  },
  "cells": [
    {
      "cell_type": "markdown",
      "metadata": {
        "id": "view-in-github",
        "colab_type": "text"
      },
      "source": [
        "<a href=\"https://colab.research.google.com/github/sungmich/2022_AI/blob/main/%EC%8B%A4%EC%8A%B51_1_%EC%97%B0%EC%8A%B51.ipynb\" target=\"_parent\"><img src=\"https://colab.research.google.com/assets/colab-badge.svg\" alt=\"Open In Colab\"/></a>"
      ]
    },
    {
      "cell_type": "code",
      "execution_count": null,
      "metadata": {
        "id": "sJxLZJyVPtk0"
      },
      "outputs": [],
      "source": [
        "import torch\n",
        "import numpy as np #파이썬의 수치 계산 (행렬)"
      ]
    },
    {
      "cell_type": "code",
      "source": [
        "inputs = np.array([[2], [4], [6], [8]], dtype='float32')#dtype => data type\n",
        "targets = np.array([3,4,5,6], dtype='float32')\n",
        "\n",
        "print(inputs)\n",
        "print(targets)"
      ],
      "metadata": {
        "colab": {
          "base_uri": "https://localhost:8080/"
        },
        "id": "S7PhgI37P0E-",
        "outputId": "5f18e263-ad31-4808-ea16-ace1e9e72332"
      },
      "execution_count": null,
      "outputs": [
        {
          "output_type": "stream",
          "name": "stdout",
          "text": [
            "[[2.]\n",
            " [4.]\n",
            " [6.]\n",
            " [8.]]\n",
            "[3. 4. 5. 6.]\n"
          ]
        }
      ]
    },
    {
      "cell_type": "code",
      "source": [
        "inputs = torch.from_numpy(inputs)\n",
        "targets = torch.from_numpy(targets)\n",
        "\n",
        "#torch => tesor \n",
        "#numpy => array(행렬)\n",
        "\n",
        "print(inputs)\n",
        "print(targets)"
      ],
      "metadata": {
        "colab": {
          "base_uri": "https://localhost:8080/"
        },
        "id": "Y2NLXnkSQWK3",
        "outputId": "02332c5e-f1b6-4d4d-eaea-5231659e5adb"
      },
      "execution_count": null,
      "outputs": [
        {
          "output_type": "stream",
          "name": "stdout",
          "text": [
            "tensor([[2.],\n",
            "        [4.],\n",
            "        [6.],\n",
            "        [8.]])\n",
            "tensor([3., 4., 5., 6.])\n"
          ]
        }
      ]
    },
    {
      "cell_type": "code",
      "source": [
        "from torch.utils.data import TensorDataset, DataLoader\n",
        "\n",
        "dataset = TensorDataset(inputs, targets)\n",
        "#TensorDataset => 정의역이랑 치역을 묶는다는 느낌 => 학습데이터랑 정답데이터랑 묶음 \n",
        "# => 예시에서는 (2, 3) (4, 4) (6, 5) (8, 6)\n",
        "print(next(iter(dataset)))\n",
        "\n",
        "loader = DataLoader(dataset, batch_size=4)\n",
        "#DataLoader => 데이터를 뿌려주는 역할\n",
        "#batch_size => 한 번 학습할 때의 묶음\n",
        "print(next(iter(loader)))"
      ],
      "metadata": {
        "colab": {
          "base_uri": "https://localhost:8080/"
        },
        "id": "OZNupeplQpaB",
        "outputId": "a6ebb8c7-81d1-4b74-df5d-ed4f51c6977d"
      },
      "execution_count": null,
      "outputs": [
        {
          "output_type": "stream",
          "name": "stdout",
          "text": [
            "(tensor([2.]), tensor(3.))\n",
            "[tensor([[2.],\n",
            "        [4.],\n",
            "        [6.],\n",
            "        [8.]]), tensor([3., 4., 5., 6.])]\n"
          ]
        }
      ]
    },
    {
      "cell_type": "code",
      "source": [
        "w = torch.randn(1,1,requires_grad=True)\n",
        "b = torch.randn(1,requires_grad=True)\n",
        "#requires_grad\n",
        "print(w)\n",
        "print(b)"
      ],
      "metadata": {
        "colab": {
          "base_uri": "https://localhost:8080/"
        },
        "id": "zoRzVbmkRFqq",
        "outputId": "d2e0026e-61fa-4a8c-9db2-f467acc9b731"
      },
      "execution_count": null,
      "outputs": [
        {
          "output_type": "stream",
          "name": "stdout",
          "text": [
            "tensor([[0.6220]], requires_grad=True)\n",
            "tensor([-2.5596], requires_grad=True)\n"
          ]
        }
      ]
    },
    {
      "cell_type": "code",
      "source": [
        "def model(X):\n",
        "  return X @ w.t() + b\n",
        "# @   : 행렬연산 \n",
        "# .t  : transpose => 여러 차원에서 사용 => 이 실습에서는 무의미"
      ],
      "metadata": {
        "id": "UHIzF6cMRhVG"
      },
      "execution_count": null,
      "outputs": []
    },
    {
      "cell_type": "code",
      "source": [
        "def mse_loss(predictions, targets):\n",
        "  difference = predictions - targets\n",
        "  return torch.sum(difference * difference) /difference.numel()\n",
        "  #numel  : 원소 개수"
      ],
      "metadata": {
        "id": "BxsROxk_SEuu"
      },
      "execution_count": null,
      "outputs": []
    },
    {
      "cell_type": "code",
      "source": [
        "for x, y in dataset:\n",
        "  preds = model(x)\n",
        "  print(f'Prediction: {preds.item():.2f} / Actual target: {y.item():.2f} / loss: {mse_loss(preds, y):.2f}')\n",
        "#학습 전 예측 결과"
      ],
      "metadata": {
        "colab": {
          "base_uri": "https://localhost:8080/"
        },
        "id": "Q3flpIwhSb3J",
        "outputId": "365e1d3b-fa1d-4a59-e60b-64f0262e382f"
      },
      "execution_count": null,
      "outputs": [
        {
          "output_type": "stream",
          "name": "stdout",
          "text": [
            "Prediction: 0.70 / Actual target: 3.00 / loss: 5.27\n",
            "Prediction: 0.09 / Actual target: 4.00 / loss: 15.28\n",
            "Prediction: -0.52 / Actual target: 5.00 / loss: 30.49\n",
            "Prediction: -1.13 / Actual target: 6.00 / loss: 50.90\n"
          ]
        }
      ]
    },
    {
      "cell_type": "code",
      "source": [
        "epochs = 10000\n",
        "for i in range (epochs):\n",
        "  for x, y in loader:\n",
        "    preds = model(x)\n",
        "\n",
        "    loss = mse_loss(preds[:, 0], y)\n",
        "    loss.backward()\n",
        "\n",
        "    with torch.no_grad():\n",
        "      w -= w.grad * 1e-3\n",
        "      b -= b.grad * 1e-3\n",
        "\n",
        "      w.grad.zero_()\n",
        "      b.grad.zero_()"
      ],
      "metadata": {
        "id": "-r6g10JfSyNL"
      },
      "execution_count": null,
      "outputs": []
    },
    {
      "cell_type": "code",
      "source": [
        "for x, y in dataset:\n",
        "  preds = model(x)\n",
        "  print(f'Prediction: {preds.item():.2f} / Actual target: {y.item():.2f} / loss: {mse_loss(preds, y):.2f}')\n",
        "#학습 후 결과"
      ],
      "metadata": {
        "colab": {
          "base_uri": "https://localhost:8080/"
        },
        "id": "WILDYjgwU5m0",
        "outputId": "9e03d1bd-7121-4bf8-b7a0-530b5d65f4d5"
      },
      "execution_count": null,
      "outputs": [
        {
          "output_type": "stream",
          "name": "stdout",
          "text": [
            "Prediction: 2.99 / Actual target: 3.00 / loss: 0.00\n",
            "Prediction: 3.99 / Actual target: 4.00 / loss: 0.00\n",
            "Prediction: 5.00 / Actual target: 5.00 / loss: 0.00\n",
            "Prediction: 6.01 / Actual target: 6.00 / loss: 0.00\n"
          ]
        }
      ]
    },
    {
      "cell_type": "code",
      "source": [
        "import matplotlib.pyplot as plt\n",
        "\n",
        "x_tmp = np.arange(0,11,1)\n",
        "y_tmp = w.detach().numpy()*x_tmp+b.detach().numpy()\n",
        "plt.plot(inputs,targets,'x')\n",
        "plt.plot(x_tmp,y_tmp[0])\n",
        "plt.xlabel('x')\n",
        "plt.ylabel('y')\n",
        "plt.show()"
      ],
      "metadata": {
        "colab": {
          "base_uri": "https://localhost:8080/",
          "height": 279
        },
        "id": "EWsMDl3PU_YL",
        "outputId": "40809ab0-f4aa-4b4e-9960-90511f35634b"
      },
      "execution_count": null,
      "outputs": [
        {
          "output_type": "display_data",
          "data": {
            "text/plain": [
              "<Figure size 432x288 with 1 Axes>"
            ],
            "image/png": "[encoded data removed]"
          },
          "metadata": {
            "needs_background": "light"
          }
        }
      ]
    },
    {
      "cell_type": "code",
      "source": [],
      "metadata": {
        "id": "nZATbDt4VEHw"
      },
      "execution_count": null,
      "outputs": []
    }
  ]
}