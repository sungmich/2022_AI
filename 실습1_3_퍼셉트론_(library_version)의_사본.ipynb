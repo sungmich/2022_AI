{
  "nbformat": 4,
  "nbformat_minor": 0,
  "metadata": {
    "colab": {
      "provenance": [],
      "collapsed_sections": [],
      "include_colab_link": true
    },
    "kernelspec": {
      "name": "python3",
      "display_name": "Python 3"
    },
    "language_info": {
      "name": "python"
    }
  },
  "cells": [
    {
      "cell_type": "markdown",
      "metadata": {
        "id": "view-in-github",
        "colab_type": "text"
      },
      "source": [
        "<a href=\"https://colab.research.google.com/github/sungmich/2022_AI/blob/main/%EC%8B%A4%EC%8A%B51_3_%ED%8D%BC%EC%85%89%ED%8A%B8%EB%A1%A0_(library_version)%EC%9D%98_%EC%82%AC%EB%B3%B8.ipynb\" target=\"_parent\"><img src=\"https://colab.research.google.com/assets/colab-badge.svg\" alt=\"Open In Colab\"/></a>"
      ]
    },
    {
      "cell_type": "code",
      "execution_count": null,
      "metadata": {
        "id": "4wplx-mOIWDi"
      },
      "outputs": [],
      "source": [
        "import torch\n",
        "import numpy as np"
      ]
    },
    {
      "cell_type": "code",
      "source": [
        "inputs = np.array([[0,0],[0,1],[1,0],[1,1]], dtype='float32')\n",
        "\n",
        "#targets = np.array([0,1,1,1], dtype='float32') #OR\n",
        "targets = np.array([0,0,0,1], dtype='float32') #AND\n",
        "#targets = np.array([0,1,1,0], dtype='float32') #XOR"
      ],
      "metadata": {
        "id": "WM4bhdJsIebA"
      },
      "execution_count": null,
      "outputs": []
    },
    {
      "cell_type": "code",
      "source": [
        "inputs = torch.from_numpy(inputs)\n",
        "targets = torch.from_numpy(targets)"
      ],
      "metadata": {
        "id": "u8IUZXE0Iq0Z"
      },
      "execution_count": null,
      "outputs": []
    },
    {
      "cell_type": "code",
      "source": [
        "from torch.utils.data import TensorDataset, DataLoader\n",
        "\n",
        "dataset = TensorDataset(inputs, targets)\n",
        "loader = DataLoader(dataset, batch_size=4)"
      ],
      "metadata": {
        "id": "2L7vaY0XIuIL"
      },
      "execution_count": null,
      "outputs": []
    },
    {
      "cell_type": "code",
      "source": [
        "linear = torch.nn.Linear(2, 1, bias=True)#들어오는 애 2개 나가는 애 1개 (0 0 => 0/ 0 1 => 0/ 1 1 => 1 ...)선형 계층을 얘기함 \n",
        "sigmoid = torch.nn.Sigmoid()"
      ],
      "metadata": {
        "id": "oEXb0So4IyU8"
      },
      "execution_count": null,
      "outputs": []
    },
    {
      "cell_type": "code",
      "source": [
        "model = torch.nn.Sequential(linear, sigmoid)"
      ],
      "metadata": {
        "id": "CtqGFgq4Izm2"
      },
      "execution_count": null,
      "outputs": []
    },
    {
      "cell_type": "code",
      "source": [
        "criterion = torch.nn.BCELoss()\n",
        "optimizer = torch.optim.SGD(model.parameters(), lr=1)#최적화 기법"
      ],
      "metadata": {
        "id": "RBt2FARl4Zej"
      },
      "execution_count": null,
      "outputs": []
    },
    {
      "cell_type": "code",
      "source": [
        "for x,y in dataset:\n",
        "    preds = model(x)\n",
        "\n",
        "    print(f'Prediction: {preds.item():.2f} / Actual target: {y.item():.2f}')"
      ],
      "metadata": {
        "id": "WZNqWoQjI2YA",
        "colab": {
          "base_uri": "https://localhost:8080/"
        },
        "outputId": "288baaa3-072a-4445-b25a-49dcfa33af35"
      },
      "execution_count": null,
      "outputs": [
        {
          "output_type": "stream",
          "name": "stdout",
          "text": [
            "Prediction: 0.41 / Actual target: 0.00\n",
            "Prediction: 0.57 / Actual target: 0.00\n",
            "Prediction: 0.56 / Actual target: 0.00\n",
            "Prediction: 0.71 / Actual target: 1.00\n"
          ]
        }
      ]
    },
    {
      "cell_type": "code",
      "source": [
        "epochs = 1000\n",
        "for i in range(epochs):\n",
        "    for x,y in loader:\n",
        "        # Generate Prediction\n",
        "        preds = model(x)\n",
        "        # Get the loss and perform backpropagation\n",
        "        loss = criterion(preds[:, 0], y)\n",
        "        loss.backward()\n",
        "        # Let's update the weights\n",
        "        optimizer.step()#이게뭘까\n",
        "#    print(f\"Epoch {i}/{epochs}: Loss: {loss}\")"
      ],
      "metadata": {
        "id": "cZOx3DsaI3TF"
      },
      "execution_count": null,
      "outputs": []
    },
    {
      "cell_type": "code",
      "source": [
        "for x,y in dataset:\n",
        "    preds = model(x)\n",
        "\n",
        "    print(f'Prediction: {preds.item():.2f} / Actual target: {y.item():.2f}')"
      ],
      "metadata": {
        "id": "fysXCOM8gDzF",
        "colab": {
          "base_uri": "https://localhost:8080/"
        },
        "outputId": "4905d1bd-31ad-43b3-e45c-f2274568b651"
      },
      "execution_count": null,
      "outputs": [
        {
          "output_type": "stream",
          "name": "stdout",
          "text": [
            "Prediction: 0.00 / Actual target: 0.00\n",
            "Prediction: 0.00 / Actual target: 0.00\n",
            "Prediction: 0.00 / Actual target: 0.00\n",
            "Prediction: 1.00 / Actual target: 1.00\n"
          ]
        }
      ]
    },
    {
      "cell_type": "code",
      "source": [
        "import matplotlib.pyplot as plt\n",
        "\n",
        "x1_tmp = np.arange(-0.2,1.3,0.1)\n",
        "w_tmp = []\n",
        "for param in model.parameters():\n",
        "    w_tmp.append(param.data)\n",
        "x2_tmp = (-w_tmp[0][0,0].numpy()*x1_tmp-w_tmp[1].numpy())/w_tmp[0][0,1].numpy()\n",
        "fig = plt.figure()\n",
        "ax = fig.add_subplot(111)\n",
        "for i in range(len(inputs)):\n",
        "    if targets[i] == 1:\n",
        "        plt.plot(inputs[i,0],inputs[i,1],'bx')\n",
        "    else:\n",
        "        plt.plot(inputs[i,0],inputs[i,1],'rd')\n",
        "plt.plot(x1_tmp,x2_tmp)\n",
        "plt.xlim([-0.2,1.2])\n",
        "plt.ylim([-0.2,1.2])\n",
        "plt.xlabel('x1')\n",
        "plt.ylabel('x2')\n",
        "ax.set_aspect('equal')\n",
        "plt.show()"
      ],
      "metadata": {
        "id": "TfAFC4mBYGJ2",
        "colab": {
          "base_uri": "https://localhost:8080/",
          "height": 283
        },
        "outputId": "41d60de9-d08b-47e7-e9e1-784d1ffe98c3"
      },
      "execution_count": null,
      "outputs": [
        {
          "output_type": "display_data",
          "data": {
            "text/plain": [
              "<Figure size 432x288 with 1 Axes>"
            ],
            "image/png": "[encoded data removed]"
          },
          "metadata": {
            "needs_background": "light"
          }
        }
      ]
    },
    {
      "cell_type": "code",
      "source": [],
      "metadata": {
        "id": "XedJMYu52c1E"
      },
      "execution_count": null,
      "outputs": []
    }
  ]
}