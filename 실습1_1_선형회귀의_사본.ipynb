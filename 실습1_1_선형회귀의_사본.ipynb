{
  "nbformat": 4,
  "nbformat_minor": 0,
  "metadata": {
    "colab": {
      "provenance": [],
      "collapsed_sections": [],
      "include_colab_link": true
    },
    "kernelspec": {
      "name": "python3",
      "display_name": "Python 3"
    },
    "language_info": {
      "name": "python"
    }
  },
  "cells": [
    {
      "cell_type": "markdown",
      "metadata": {
        "id": "view-in-github",
        "colab_type": "text"
      },
      "source": [
        "<a href=\"https://colab.research.google.com/github/sungmich/2022_AI/blob/main/%EC%8B%A4%EC%8A%B51_1_%EC%84%A0%ED%98%95%ED%9A%8C%EA%B7%80%EC%9D%98_%EC%82%AC%EB%B3%B8.ipynb\" target=\"_parent\"><img src=\"https://colab.research.google.com/assets/colab-badge.svg\" alt=\"Open In Colab\"/></a>"
      ]
    },
    {
      "cell_type": "code",
      "execution_count": null,
      "metadata": {
        "id": "4wplx-mOIWDi"
      },
      "outputs": [],
      "source": [
        "import torch #파이토치 import\n",
        "import numpy as np # numpy => 파이썬 수치 계산 라이브러리"
      ]
    },
    {
      "cell_type": "code",
      "source": [
        "inputs = np.array([[2],[4],[6],[8]], \n",
        "                  dtype='float32')\n",
        "targets = np.array([3,4,5,6], \n",
        "                   dtype='float32')"
      ],
      "metadata": {
        "id": "WM4bhdJsIebA"
      },
      "execution_count": null,
      "outputs": []
    },
    {
      "cell_type": "code",
      "source": [
        "inputs = torch.from_numpy(inputs)\n",
        "targets = torch.from_numpy(targets)"
      ],
      "metadata": {
        "id": "u8IUZXE0Iq0Z"
      },
      "execution_count": null,
      "outputs": []
    },
    {
      "cell_type": "code",
      "source": [
        "from torch.utils.data import TensorDataset, DataLoader\n",
        "\n",
        "dataset = TensorDataset(inputs, targets)\n",
        "loader = DataLoader(dataset, batch_size=4)"
      ],
      "metadata": {
        "id": "2L7vaY0XIuIL"
      },
      "execution_count": null,
      "outputs": []
    },
    {
      "cell_type": "code",
      "source": [
        "w = torch.randn(1,1,requires_grad=True) # 임의의 값\n",
        "b = torch.randn(1,requires_grad=True) # 임의의 값 requires_grad => 미분값 계산시 필요"
      ],
      "metadata": {
        "id": "oEXb0So4IyU8"
      },
      "execution_count": null,
      "outputs": []
    },
    {
      "cell_type": "code",
      "source": [
        "def model(X):\n",
        "    return X @ w.t() + b # @ : 행렬연산 / .t => transpose => 차원이 여러가지일 때 필요 => 현재 상황에서는 사실 필요 x"
      ],
      "metadata": {
        "id": "CtqGFgq4Izm2"
      },
      "execution_count": null,
      "outputs": []
    },
    {
      "cell_type": "code",
      "source": [
        "def mse_loss(predictions, targets):\n",
        "    difference = predictions - targets\n",
        "    return torch.sum(difference * difference) / difference.numel()"
      ],
      "metadata": {
        "id": "usGwu067I1VT"
      },
      "execution_count": null,
      "outputs": []
    },
    {
      "cell_type": "code",
      "source": [
        "for x,y in dataset:#아직은 예측이 형편없음\n",
        "    preds = model(x)\n",
        "    print(f'Prediction: {preds.item():.2f} / Actual target: {y.item():.2f} / loss: {mse_loss(preds, y):.2f}')"
      ],
      "metadata": {
        "id": "WZNqWoQjI2YA",
        "colab": {
          "base_uri": "https://localhost:8080/"
        },
        "outputId": "9fc5b1a0-e9ff-4e55-fa33-51723a1736c6"
      },
      "execution_count": null,
      "outputs": [
        {
          "output_type": "stream",
          "name": "stdout",
          "text": [
            "Prediction: -3.39 / Actual target: 3.00 / loss: 40.88\n",
            "Prediction: -6.24 / Actual target: 4.00 / loss: 104.83\n",
            "Prediction: -9.08 / Actual target: 5.00 / loss: 198.35\n",
            "Prediction: -11.93 / Actual target: 6.00 / loss: 321.45\n"
          ]
        }
      ]
    },
    {
      "cell_type": "code",
      "source": [
        "epochs = 10000 #이 블럭이 제일 중요함\n",
        "for i in range(epochs): # 학습 10000번\n",
        "    for x,y in loader:\n",
        "        # Generate Prediction\n",
        "        preds = model(x)\n",
        "        # Get the loss and perform backpropagation\n",
        "        loss = mse_loss(preds[:, 0], y)\n",
        "        loss.backward()\n",
        "        # Let's update the weights\n",
        "        with torch.no_grad():\n",
        "            w -= w.grad * 1e-3\n",
        "            b -= b.grad * 1e-3\n",
        "            # Set the gradients to zero\n",
        "            w.grad.zero_()\n",
        "            b.grad.zero_()\n",
        "    #print(f\"Epoch {i}/{epochs}: Loss: {loss}\")"
      ],
      "metadata": {
        "id": "cZOx3DsaI3TF"
      },
      "execution_count": null,
      "outputs": []
    },
    {
      "cell_type": "code",
      "source": [
        "for x,y in dataset:\n",
        "    preds = model(x)\n",
        "    print(f'Prediction: {preds.item():.2f} / Actual target: {y.item():.2f} / loss: {mse_loss(preds, y):.2f}')"
      ],
      "metadata": {
        "id": "EGYpc3m7I5xZ",
        "colab": {
          "base_uri": "https://localhost:8080/"
        },
        "outputId": "68b1a86b-4189-4dcc-8b81-02f80acc7cd5"
      },
      "execution_count": null,
      "outputs": [
        {
          "output_type": "stream",
          "name": "stdout",
          "text": [
            "Prediction: 2.94 / Actual target: 3.00 / loss: 0.00\n",
            "Prediction: 3.97 / Actual target: 4.00 / loss: 0.00\n",
            "Prediction: 5.00 / Actual target: 5.00 / loss: 0.00\n",
            "Prediction: 6.03 / Actual target: 6.00 / loss: 0.00\n"
          ]
        }
      ]
    },
    {
      "cell_type": "code",
      "source": [
        "import matplotlib.pyplot as plt\n",
        "\n",
        "x_tmp = np.arange(0,11,1)\n",
        "y_tmp = w.detach().numpy()*x_tmp+b.detach().numpy()\n",
        "plt.plot(inputs,targets,'x')\n",
        "plt.plot(x_tmp,y_tmp[0])\n",
        "plt.xlabel('x')\n",
        "plt.ylabel('y')\n",
        "plt.show()"
      ],
      "metadata": {
        "id": "TfAFC4mBYGJ2",
        "colab": {
          "base_uri": "https://localhost:8080/",
          "height": 279
        },
        "outputId": "bddd8fa2-c3fc-4364-e1ea-46bbe9ddbe09"
      },
      "execution_count": null,
      "outputs": [
        {
          "output_type": "display_data",
          "data": {
            "text/plain": [
              "<Figure size 432x288 with 1 Axes>"
            ],
            "image/png": "[encoded data removed]"
          },
          "metadata": {
            "needs_background": "light"
          }
        }
      ]
    },
    {
      "cell_type": "code",
      "source": [],
      "metadata": {
        "id": "1CXeB6xhv-JZ"
      },
      "execution_count": null,
      "outputs": []
    }
  ]
}