{
  "nbformat": 4,
  "nbformat_minor": 0,
  "metadata": {
    "colab": {
      "provenance": [],
      "collapsed_sections": [],
      "include_colab_link": true
    },
    "kernelspec": {
      "name": "python3",
      "display_name": "Python 3"
    },
    "language_info": {
      "name": "python"
    }
  },
  "cells": [
    {
      "cell_type": "markdown",
      "metadata": {
        "id": "view-in-github",
        "colab_type": "text"
      },
      "source": [
        "<a href=\"https://colab.research.google.com/github/sungmich/2022_AI/blob/main/%EC%8B%A4%EC%8A%B51_2_%ED%8D%BC%EC%85%89%ED%8A%B8%EB%A1%A0%EC%9D%98_%EC%82%AC%EB%B3%B8.ipynb\" target=\"_parent\"><img src=\"https://colab.research.google.com/assets/colab-badge.svg\" alt=\"Open In Colab\"/></a>"
      ]
    },
    {
      "cell_type": "code",
      "execution_count": null,
      "metadata": {
        "id": "4wplx-mOIWDi"
      },
      "outputs": [],
      "source": [
        "import torch\n",
        "import numpy as np"
      ]
    },
    {
      "cell_type": "code",
      "source": [
        "inputs = np.array([[0,0],[0,1],[1,0],[1,1]], dtype='float32')\n",
        "\n",
        "#targets = np.array([0,1,1,1], dtype='float32') # OR\n",
        "#targets = np.array([0,0,0,1], dtype='float32') # AND\n",
        "targets = np.array([0,1,1,0], dtype='float32') # XOR"
      ],
      "metadata": {
        "id": "WM4bhdJsIebA"
      },
      "execution_count": null,
      "outputs": []
    },
    {
      "cell_type": "code",
      "source": [
        "inputs = torch.from_numpy(inputs)\n",
        "targets = torch.from_numpy(targets)"
      ],
      "metadata": {
        "id": "u8IUZXE0Iq0Z"
      },
      "execution_count": null,
      "outputs": []
    },
    {
      "cell_type": "code",
      "source": [
        "from torch.utils.data import TensorDataset, DataLoader\n",
        "\n",
        "dataset = TensorDataset(inputs, targets)\n",
        "loader = DataLoader(dataset, batch_size=4)"
      ],
      "metadata": {
        "id": "2L7vaY0XIuIL"
      },
      "execution_count": null,
      "outputs": []
    },
    {
      "cell_type": "code",
      "source": [
        "w = torch.randn(1, 2, requires_grad=True)\n",
        "w0 = torch.randn(1, requires_grad=True)"
      ],
      "metadata": {
        "id": "oEXb0So4IyU8"
      },
      "execution_count": null,
      "outputs": []
    },
    {
      "cell_type": "code",
      "source": [
        "def model(X):\n",
        "    return torch.sigmoid(X @ w.t() + w0)#분류문제이기 때문에 sigmoid"
      ],
      "metadata": {
        "id": "CtqGFgq4Izm2"
      },
      "execution_count": null,
      "outputs": []
    },
    {
      "cell_type": "code",
      "source": [
        "criterion = torch.nn.BCELoss()#손실함수"
      ],
      "metadata": {
        "id": "RBt2FARl4Zej"
      },
      "execution_count": null,
      "outputs": []
    },
    {
      "cell_type": "code",
      "source": [
        "for x,y in dataset:#예측이 형편없음\n",
        "    preds = model(x)\n",
        "\n",
        "    print(f'Prediction: {preds.item():.2f} / Actual target: {y.item():.2f}')"
      ],
      "metadata": {
        "id": "WZNqWoQjI2YA",
        "colab": {
          "base_uri": "https://localhost:8080/"
        },
        "outputId": "c3ed142e-8341-4386-8bd0-cf3daec20def"
      },
      "execution_count": null,
      "outputs": [
        {
          "output_type": "stream",
          "name": "stdout",
          "text": [
            "Prediction: 0.78 / Actual target: 0.00\n",
            "Prediction: 0.96 / Actual target: 1.00\n",
            "Prediction: 0.84 / Actual target: 1.00\n",
            "Prediction: 0.98 / Actual target: 0.00\n"
          ]
        }
      ]
    },
    {
      "cell_type": "code",
      "source": [
        "epochs = 1000\n",
        "for i in range(epochs):\n",
        "    for x,y in loader:\n",
        "        # Generate Prediction\n",
        "        preds = model(x)\n",
        "        # Get the loss and perform backpropagation\n",
        "        loss = criterion(preds[:, 0], y)\n",
        "        loss.backward()\n",
        "        # Let's update the weights\n",
        "        with torch.no_grad():\n",
        "            w -= w.grad\n",
        "            w0 -= w0.grad\n",
        "            # Set the gradients to zero\n",
        "            w.grad.zero_()\n",
        "            w0.grad.zero_()\n",
        "#    print(f\"Epoch {i}/{epochs}: Loss: {loss}\")"
      ],
      "metadata": {
        "id": "cZOx3DsaI3TF"
      },
      "execution_count": null,
      "outputs": []
    },
    {
      "cell_type": "code",
      "source": [
        "for x,y in dataset:\n",
        "    preds = model(x)\n",
        "\n",
        "    print(f'Prediction: {preds.item():.2f} / Actual target: {y.item():.2f}')"
      ],
      "metadata": {
        "id": "fysXCOM8gDzF",
        "colab": {
          "base_uri": "https://localhost:8080/"
        },
        "outputId": "60ac5633-d3b6-4564-827d-f82b543e58d4"
      },
      "execution_count": null,
      "outputs": [
        {
          "output_type": "stream",
          "name": "stdout",
          "text": [
            "Prediction: 0.50 / Actual target: 0.00\n",
            "Prediction: 0.50 / Actual target: 1.00\n",
            "Prediction: 0.50 / Actual target: 1.00\n",
            "Prediction: 0.50 / Actual target: 0.00\n"
          ]
        }
      ]
    },
    {
      "cell_type": "code",
      "source": [
        "import matplotlib.pyplot as plt\n",
        "\n",
        "x1_tmp = np.arange(-0.2,1.3,0.1)\n",
        "w_tmp = w.detach().numpy()\n",
        "x2_tmp = (-w_tmp[0,0]*x1_tmp-w0.detach().numpy())/w_tmp[0,1]\n",
        "fig = plt.figure()\n",
        "ax = fig.add_subplot(111)\n",
        "for i in range(len(inputs)):\n",
        "    if targets[i] == 1:\n",
        "        plt.plot(inputs[i,0],inputs[i,1],'bx')\n",
        "    else:\n",
        "        plt.plot(inputs[i,0],inputs[i,1],'rd')\n",
        "plt.plot(x1_tmp,x2_tmp)\n",
        "plt.xlim([-0.2,1.2])\n",
        "plt.ylim([-0.2,1.2])\n",
        "plt.xlabel('x1')\n",
        "plt.ylabel('x2')\n",
        "ax.set_aspect('equal')\n",
        "plt.show()"
      ],
      "metadata": {
        "id": "TfAFC4mBYGJ2",
        "colab": {
          "base_uri": "https://localhost:8080/",
          "height": 283
        },
        "outputId": "bac08676-3064-4109-a1d1-3f0f810321b5"
      },
      "execution_count": null,
      "outputs": [
        {
          "output_type": "display_data",
          "data": {
            "text/plain": [
              "<Figure size 432x288 with 1 Axes>"
            ],
            "image/png": "[encoded data removed]"
          },
          "metadata": {
            "needs_background": "light"
          }
        }
      ]
    },
    {
      "cell_type": "code",
      "source": [],
      "metadata": {
        "id": "dvhebfJizvKs"
      },
      "execution_count": null,
      "outputs": []
    }
  ]
}