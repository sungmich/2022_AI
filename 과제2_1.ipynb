{
  "nbformat": 4,
  "nbformat_minor": 0,
  "metadata": {
    "colab": {
      "provenance": [],
      "authorship_tag": "ABX9TyPm/tK5laNFYolskqkOYJIB",
      "include_colab_link": true
    },
    "kernelspec": {
      "name": "python3",
      "display_name": "Python 3"
    },
    "language_info": {
      "name": "python"
    }
  },
  "cells": [
    {
      "cell_type": "markdown",
      "metadata": {
        "id": "view-in-github",
        "colab_type": "text"
      },
      "source": [
        "<a href=\"https://colab.research.google.com/github/sungmich/2022_AI/blob/main/%EA%B3%BC%EC%A0%9C2_1.ipynb\" target=\"_parent\"><img src=\"https://colab.research.google.com/assets/colab-badge.svg\" alt=\"Open In Colab\"/></a>"
      ]
    },
    {
      "cell_type": "code",
      "execution_count": 82,
      "metadata": {
        "id": "16D6gkwFqiCQ"
      },
      "outputs": [],
      "source": [
        "import torch\n",
        "inputs = torch.FloatTensor([[0, 0], [0, 1], [1, 0], [1, 1]])\n",
        "targets = torch.FloatTensor([[0], [1], [1], [0]])"
      ]
    },
    {
      "cell_type": "code",
      "source": [
        "input_layer = torch.nn.Linear(2, 10, bias=True)\n",
        "linear1 = torch.nn.Linear(10, 10, bias=True)\n",
        "linear2 = torch.nn.Linear(10, 10, bias=True)\n",
        "linear3 = torch.nn.Linear(10, 10, bias=True)\n",
        "output_layer = torch.nn.Linear(10, 1, bias=True)\n",
        "sigmoid = torch.nn.Sigmoid()"
      ],
      "metadata": {
        "id": "yrKZ03JgqoJf"
      },
      "execution_count": 83,
      "outputs": []
    },
    {
      "cell_type": "code",
      "source": [
        "from torch.utils.data import TensorDataset, DataLoader\n",
        "\n",
        "dataset = TensorDataset(inputs, targets)\n",
        "loader = DataLoader(dataset, batch_size=4)"
      ],
      "metadata": {
        "id": "7vOFBs7RvKWR"
      },
      "execution_count": 84,
      "outputs": []
    },
    {
      "cell_type": "code",
      "source": [
        "model = torch.nn.Sequential(\n",
        "  input_layer,\n",
        "  sigmoid,\n",
        "  linear1,\n",
        "  sigmoid,\n",
        "  linear2,\n",
        "  sigmoid,\n",
        "  linear3,\n",
        "  sigmoid,\n",
        "  output_layer,\n",
        "  sigmoid\n",
        "  )"
      ],
      "metadata": {
        "id": "BdlvetAmqovV"
      },
      "execution_count": 85,
      "outputs": []
    },
    {
      "cell_type": "code",
      "source": [
        "criterion = torch.nn.BCELoss()\n",
        "optimizer = torch.optim.SGD(model.parameters(), lr=1)"
      ],
      "metadata": {
        "id": "Wd5x1icZqp1d"
      },
      "execution_count": 86,
      "outputs": []
    },
    {
      "cell_type": "code",
      "source": [
        "for epochs in range(30000):\n",
        "  for x,y in loader:\n",
        "    optimizer.zero_grad()\n",
        "    hypothesis = model(x)\n",
        "    cost = criterion(hypothesis, y)\n",
        "    cost.backward()\n",
        "    optimizer.step()"
      ],
      "metadata": {
        "id": "_wu1C1GvquP-"
      },
      "execution_count": 87,
      "outputs": []
    },
    {
      "cell_type": "code",
      "source": [
        "for x,y in dataset:\n",
        "    preds = model(x)\n",
        "\n",
        "    print(f'Prediction: {preds.item():.2f} / Actual target: {y.item():.2f}')"
      ],
      "metadata": {
        "colab": {
          "base_uri": "https://localhost:8080/"
        },
        "id": "4zbr_vGoq-8X",
        "outputId": "6698e500-0787-4f8a-da24-4ad693262922"
      },
      "execution_count": 88,
      "outputs": [
        {
          "output_type": "stream",
          "name": "stdout",
          "text": [
            "Prediction: 0.00 / Actual target: 0.00\n",
            "Prediction: 1.00 / Actual target: 1.00\n",
            "Prediction: 1.00 / Actual target: 1.00\n",
            "Prediction: 0.00 / Actual target: 0.00\n"
          ]
        }
      ]
    }
  ]
}