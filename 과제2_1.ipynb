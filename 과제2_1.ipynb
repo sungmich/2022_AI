{
  "nbformat": 4,
  "nbformat_minor": 0,
  "metadata": {
    "colab": {
      "provenance": [],
      "collapsed_sections": [],
      "authorship_tag": "ABX9TyPYdDiX+e211iU8YO1IgAcb",
      "include_colab_link": true
    },
    "kernelspec": {
      "name": "python3",
      "display_name": "Python 3"
    },
    "language_info": {
      "name": "python"
    }
  },
  "cells": [
    {
      "cell_type": "markdown",
      "metadata": {
        "id": "view-in-github",
        "colab_type": "text"
      },
      "source": [
        "<a href=\"https://colab.research.google.com/github/sungmich/2022_AI/blob/main/%EA%B3%BC%EC%A0%9C2_1.ipynb\" target=\"_parent\"><img src=\"https://colab.research.google.com/assets/colab-badge.svg\" alt=\"Open In Colab\"/></a>"
      ]
    },
    {
      "cell_type": "code",
      "source": [
        "import torch\n",
        "import numpy as np"
      ],
      "metadata": {
        "id": "fpC_5TMnxK5u"
      },
      "execution_count": 12,
      "outputs": []
    },
    {
      "cell_type": "code",
      "source": [
        "inputs = np.array([[0, 0], [0, 1], [1, 0], [1, 1]], dtype='float32')\n",
        "targets = np.array([0,1,1,0], dtype='float32')"
      ],
      "metadata": {
        "id": "daVGQZKexyhv"
      },
      "execution_count": 13,
      "outputs": []
    },
    {
      "cell_type": "code",
      "source": [
        "inputs = torch.from_numpy(inputs)\n",
        "targets = torch.from_numpy(targets)"
      ],
      "metadata": {
        "id": "9MZjXkutxaGQ"
      },
      "execution_count": 14,
      "outputs": []
    },
    {
      "cell_type": "code",
      "source": [
        "input_layer = torch.nn.Linear(2, 10, bias=True)\n",
        "linear1 = torch.nn.Linear(10, 10, bias=True)\n",
        "linear2 = torch.nn.Linear(10, 10, bias=True)\n",
        "linear3 = torch.nn.Linear(10, 10, bias=True)\n",
        "output_layer = torch.nn.Linear(10, 1, bias=True)\n",
        "sigmoid = torch.nn.Sigmoid()"
      ],
      "metadata": {
        "id": "yrKZ03JgqoJf"
      },
      "execution_count": 15,
      "outputs": []
    },
    {
      "cell_type": "code",
      "source": [
        "from torch.utils.data import TensorDataset, DataLoader\n",
        "\n",
        "dataset = TensorDataset(inputs, targets)\n",
        "loader = DataLoader(dataset, batch_size=4)"
      ],
      "metadata": {
        "id": "7vOFBs7RvKWR"
      },
      "execution_count": 16,
      "outputs": []
    },
    {
      "cell_type": "code",
      "source": [
        "model = torch.nn.Sequential(\n",
        "  input_layer,\n",
        "  sigmoid,\n",
        "  linear1,\n",
        "  sigmoid,\n",
        "  linear2,\n",
        "  sigmoid,\n",
        "  linear3,\n",
        "  sigmoid,\n",
        "  output_layer,\n",
        "  sigmoid\n",
        "  )\n"
      ],
      "metadata": {
        "id": "BdlvetAmqovV"
      },
      "execution_count": 17,
      "outputs": []
    },
    {
      "cell_type": "code",
      "source": [
        "criterion = torch.nn.BCELoss()\n",
        "optimizer = torch.optim.SGD(model.parameters(), lr=1)"
      ],
      "metadata": {
        "id": "Wd5x1icZqp1d"
      },
      "execution_count": 18,
      "outputs": []
    },
    {
      "cell_type": "code",
      "source": [
        "epochs = 50001\n",
        "for i in range(epochs):\n",
        "  for x,y in loader:\n",
        "    optimizer.zero_grad()\n",
        "    hypothesis = model(x)\n",
        "    loss = criterion(hypothesis[:,0], y)\n",
        "    loss.backward()\n",
        "    optimizer.step()\n",
        "  # if i % 1000 == 0:\n",
        "    # print(f\"Epoch {i}/{epochs}: Loss: {loss}\")\n"
      ],
      "metadata": {
        "id": "ls4YlJ6oxjXk"
      },
      "execution_count": 19,
      "outputs": []
    },
    {
      "cell_type": "code",
      "source": [
        "for x,y in dataset:\n",
        "    preds = model(x)\n",
        "\n",
        "    print(f'Prediction: {preds.item():.2f} / Actual target: {y.item():.2f}')"
      ],
      "metadata": {
        "colab": {
          "base_uri": "https://localhost:8080/"
        },
        "id": "4zbr_vGoq-8X",
        "outputId": "f99bbbe5-df81-4680-a299-2bc178609250"
      },
      "execution_count": 20,
      "outputs": [
        {
          "output_type": "stream",
          "name": "stdout",
          "text": [
            "Prediction: 0.00 / Actual target: 0.00\n",
            "Prediction: 1.00 / Actual target: 1.00\n",
            "Prediction: 1.00 / Actual target: 1.00\n",
            "Prediction: 0.00 / Actual target: 0.00\n"
          ]
        }
      ]
    },
    {
      "cell_type": "code",
      "source": [
        "\n"
      ],
      "metadata": {
        "id": "pic0dEgT7g_K"
      },
      "execution_count": null,
      "outputs": []
    }
  ]
}